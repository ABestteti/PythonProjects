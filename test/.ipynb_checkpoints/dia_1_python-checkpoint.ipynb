{
 "cells": [
  {
   "cell_type": "markdown",
   "metadata": {},
   "source": [
    "# Data Science & Machine learning\n",
    "\n",
    "Professor: Leonardo Sápiras\n",
    "\n",
    "E-mail: leonardosapiras@gmail.com\n",
    "\n",
    "[www.leonardosapiras.com.br](https://www.leonardosapiras.com.br)\n",
    "\n",
    "\n",
    "## Dia 1 - Python\n",
    "\n",
    "### Sintaxe básica\n",
    "\n"
   ]
  },
  {
   "cell_type": "markdown",
   "metadata": {},
   "source": [
    "#### Impressão de valores\n",
    "\n",
    "Para impressão de valores utiliza-se a função `print()`"
   ]
  },
  {
   "cell_type": "code",
   "execution_count": 1,
   "metadata": {},
   "outputs": [
    {
     "name": "stdout",
     "output_type": "stream",
     "text": [
      "Olá OpServices\n"
     ]
    }
   ],
   "source": [
    "print(\"Olá OpServices\")"
   ]
  },
  {
   "cell_type": "markdown",
   "metadata": {},
   "source": [
    "#### Variáveis"
   ]
  },
  {
   "cell_type": "markdown",
   "metadata": {},
   "source": [
    "Atribuição simples de variáveis"
   ]
  },
  {
   "cell_type": "code",
   "execution_count": 3,
   "metadata": {},
   "outputs": [],
   "source": [
    "x = 25"
   ]
  },
  {
   "cell_type": "code",
   "execution_count": 4,
   "metadata": {},
   "outputs": [
    {
     "data": {
      "text/plain": [
       "25"
      ]
     },
     "execution_count": 4,
     "metadata": {},
     "output_type": "execute_result"
    }
   ],
   "source": [
    "x"
   ]
  },
  {
   "cell_type": "code",
   "execution_count": 4,
   "metadata": {},
   "outputs": [
    {
     "name": "stdout",
     "output_type": "stream",
     "text": [
      "10\n"
     ]
    }
   ],
   "source": [
    "print(x)"
   ]
  },
  {
   "cell_type": "code",
   "execution_count": 5,
   "metadata": {},
   "outputs": [
    {
     "name": "stdout",
     "output_type": "stream",
     "text": [
      "Nome completo: João Silva\n"
     ]
    }
   ],
   "source": [
    "nome = \"João\"\n",
    "sobrenome = \"Silva\"\n",
    "print (\"Nome completo:\", nome, sobrenome)"
   ]
  },
  {
   "cell_type": "markdown",
   "metadata": {},
   "source": [
    "Atribuição de múltiplas variáveis\n"
   ]
  },
  {
   "cell_type": "code",
   "execution_count": 6,
   "metadata": {},
   "outputs": [
    {
     "name": "stdout",
     "output_type": "stream",
     "text": [
      "1\n",
      "2\n"
     ]
    }
   ],
   "source": [
    "valor_1, valor_2 = 1, 2\n",
    "print (valor_1)\n",
    "print (valor_2)"
   ]
  },
  {
   "cell_type": "markdown",
   "metadata": {},
   "source": [
    "#### Strings"
   ]
  },
  {
   "cell_type": "code",
   "execution_count": 7,
   "metadata": {},
   "outputs": [
    {
     "name": "stdout",
     "output_type": "stream",
     "text": [
      " Olá, \n",
      "este é um textão\n",
      "de várias linhas\n"
     ]
    }
   ],
   "source": [
    "frase_1 = \"ola\"\n",
    "frase_2 = \"\"\" Olá, \n",
    "este é um textão\n",
    "de várias linhas\"\"\"\n",
    "\n",
    "print(frase_2)"
   ]
  },
  {
   "cell_type": "markdown",
   "metadata": {},
   "source": [
    "Tudo em maiúsculo"
   ]
  },
  {
   "cell_type": "code",
   "execution_count": 8,
   "metadata": {},
   "outputs": [
    {
     "name": "stdout",
     "output_type": "stream",
     "text": [
      " OLÁ, \n",
      "ESTE É UM TEXTÃO\n",
      "DE VÁRIAS LINHAS\n"
     ]
    }
   ],
   "source": [
    "print(frase_2.upper())"
   ]
  },
  {
   "cell_type": "markdown",
   "metadata": {},
   "source": [
    "Tudo em minúsculo"
   ]
  },
  {
   "cell_type": "code",
   "execution_count": 9,
   "metadata": {},
   "outputs": [
    {
     "name": "stdout",
     "output_type": "stream",
     "text": [
      " olá, \n",
      "este é um textão\n",
      "de várias linhas\n"
     ]
    }
   ],
   "source": [
    "print(frase_2.lower())"
   ]
  },
  {
   "cell_type": "markdown",
   "metadata": {},
   "source": [
    "Localizar e substituir"
   ]
  },
  {
   "cell_type": "code",
   "execution_count": 10,
   "metadata": {},
   "outputs": [
    {
     "name": "stdout",
     "output_type": "stream",
     "text": [
      " Olá, \n",
      "este é um textão\n",
      "DEEEEEEE várias linhas\n"
     ]
    }
   ],
   "source": [
    "print(frase_2.replace(\"de\", \"DEEEEEEE\"))"
   ]
  },
  {
   "cell_type": "markdown",
   "metadata": {},
   "source": [
    "#### Operações matemáticas\n",
    "\n",
    "Soma"
   ]
  },
  {
   "cell_type": "code",
   "execution_count": 11,
   "metadata": {},
   "outputs": [
    {
     "name": "stdout",
     "output_type": "stream",
     "text": [
      "60\n"
     ]
    }
   ],
   "source": [
    "y = x + 50\n",
    "print (y)"
   ]
  },
  {
   "cell_type": "markdown",
   "metadata": {},
   "source": [
    "Substração"
   ]
  },
  {
   "cell_type": "code",
   "execution_count": 12,
   "metadata": {},
   "outputs": [
    {
     "name": "stdout",
     "output_type": "stream",
     "text": [
      "20\n"
     ]
    }
   ],
   "source": [
    "print (y - 40)"
   ]
  },
  {
   "cell_type": "code",
   "execution_count": 13,
   "metadata": {},
   "outputs": [
    {
     "name": "stdout",
     "output_type": "stream",
     "text": [
      "O valor de y é 60\n"
     ]
    }
   ],
   "source": [
    "print (\"O valor de y é\", y)"
   ]
  },
  {
   "cell_type": "markdown",
   "metadata": {},
   "source": [
    "### Tipos de dados"
   ]
  },
  {
   "cell_type": "markdown",
   "metadata": {},
   "source": [
    "O Python permite utilizar os seguintes tipos de dados:\n",
    "    \n",
    "Texto:\tstr\n",
    "Numéricos:\tint, float, complex\n",
    "Sequenciais (arrays):\tlist, tuple, range\n",
    "Mapeamento:\tdict\n",
    "Conjuntos:\tset, frozenset\n",
    "Lógicos:\tbool\n",
    "Binários:\tbytes, bytearray, memoryview\n",
    "   \n",
    "Para obter o tipo de uma variável, basta usar a função `type()`"
   ]
  },
  {
   "cell_type": "code",
   "execution_count": 16,
   "metadata": {},
   "outputs": [
    {
     "data": {
      "text/plain": [
       "str"
      ]
     },
     "execution_count": 16,
     "metadata": {},
     "output_type": "execute_result"
    }
   ],
   "source": [
    "valor = 10\n",
    "type(valor)\n",
    "valor = \"valor\"\n",
    "type(valor)"
   ]
  },
  {
   "cell_type": "markdown",
   "metadata": {},
   "source": [
    "#### Float"
   ]
  },
  {
   "cell_type": "code",
   "execution_count": 17,
   "metadata": {},
   "outputs": [
    {
     "name": "stdout",
     "output_type": "stream",
     "text": [
      "10.232\n"
     ]
    }
   ],
   "source": [
    "valor = 10.232\n",
    "print(valor)"
   ]
  },
  {
   "cell_type": "markdown",
   "metadata": {},
   "source": [
    "#### Lista\n",
    "\n",
    "Listas podem ser interpretadas também como arrays. Uma lista possui as seguintes funções:\n",
    "\n",
    "append() - Adiciona um elemento no final da lista\n",
    "clear() - Remove todos os elementos da lista\n",
    "copy() - Retorna uma cópia da lista\n",
    "count() - Retorna a quantidade de elementos da lista\n",
    "extend() - Adiciona elementos de outra lista à uma lista\n",
    "insert() - Adiciona um elemento em uma posição especificada\n",
    "pop() - Remove um elemento de uma posição especificada\n",
    "remove() - Remove o primeiro elemento de um valor especificado\n",
    "index() - Retorna a posição do primeiro elemento de um valor especificado \n",
    "reverse() - Inverte uma lista\n",
    "sort() - Ordena os valores de uma lista"
   ]
  },
  {
   "cell_type": "code",
   "execution_count": 18,
   "metadata": {},
   "outputs": [
    {
     "data": {
      "text/plain": [
       "list"
      ]
     },
     "execution_count": 18,
     "metadata": {},
     "output_type": "execute_result"
    }
   ],
   "source": [
    "lista = [\"primeiro\", \"segundo\", \"terceiro\"]\n",
    "type(lista)\n"
   ]
  },
  {
   "cell_type": "code",
   "execution_count": null,
   "metadata": {},
   "outputs": [],
   "source": [
    "lista[0]"
   ]
  },
  {
   "cell_type": "markdown",
   "metadata": {},
   "source": [
    "#### Tupla"
   ]
  },
  {
   "cell_type": "code",
   "execution_count": 19,
   "metadata": {},
   "outputs": [
    {
     "data": {
      "text/plain": [
       "tuple"
      ]
     },
     "execution_count": 19,
     "metadata": {},
     "output_type": "execute_result"
    }
   ],
   "source": [
    "tupla = (\"coluna 1\", \"coluna 2\", \"coluna 3\")\n",
    "type(tupla)"
   ]
  },
  {
   "cell_type": "code",
   "execution_count": null,
   "metadata": {},
   "outputs": [],
   "source": [
    "tupla[0]"
   ]
  },
  {
   "cell_type": "markdown",
   "metadata": {},
   "source": [
    "#### Mapeamento (Dicionário)"
   ]
  },
  {
   "cell_type": "code",
   "execution_count": 5,
   "metadata": {},
   "outputs": [
    {
     "data": {
      "text/plain": [
       "dict"
      ]
     },
     "execution_count": 5,
     "metadata": {},
     "output_type": "execute_result"
    }
   ],
   "source": [
    "dicionario = {\"nome\" : \"João\", \"age\" : 32}\n",
    "type(dicionario)"
   ]
  },
  {
   "cell_type": "code",
   "execution_count": 6,
   "metadata": {},
   "outputs": [
    {
     "data": {
      "text/plain": [
       "'João'"
      ]
     },
     "execution_count": 6,
     "metadata": {},
     "output_type": "execute_result"
    }
   ],
   "source": [
    "dicionario['nome']"
   ]
  },
  {
   "cell_type": "markdown",
   "metadata": {},
   "source": [
    "#### Conjunto"
   ]
  },
  {
   "cell_type": "code",
   "execution_count": 7,
   "metadata": {},
   "outputs": [],
   "source": [
    "conjunto = {\"Verde\", \"Vermelho\", \"Amarelo\", \"Laranja\"}"
   ]
  },
  {
   "cell_type": "code",
   "execution_count": 8,
   "metadata": {},
   "outputs": [
    {
     "data": {
      "text/plain": [
       "set"
      ]
     },
     "execution_count": 8,
     "metadata": {},
     "output_type": "execute_result"
    }
   ],
   "source": [
    "type(conjunto)"
   ]
  },
  {
   "cell_type": "markdown",
   "metadata": {},
   "source": [
    "#### Lógico"
   ]
  },
  {
   "cell_type": "code",
   "execution_count": 24,
   "metadata": {},
   "outputs": [],
   "source": [
    "valor = True\n",
    "valor = False"
   ]
  },
  {
   "cell_type": "markdown",
   "metadata": {},
   "source": [
    "#### Type cast\n",
    "\n",
    "Type cast é a ação de converter um tipo em outro"
   ]
  },
  {
   "cell_type": "code",
   "execution_count": 25,
   "metadata": {},
   "outputs": [],
   "source": [
    "valor = 10.2332\n"
   ]
  },
  {
   "cell_type": "code",
   "execution_count": 26,
   "metadata": {},
   "outputs": [
    {
     "data": {
      "text/plain": [
       "float"
      ]
     },
     "execution_count": 26,
     "metadata": {},
     "output_type": "execute_result"
    }
   ],
   "source": [
    "type(valor)"
   ]
  },
  {
   "cell_type": "code",
   "execution_count": 27,
   "metadata": {},
   "outputs": [
    {
     "data": {
      "text/plain": [
       "10"
      ]
     },
     "execution_count": 27,
     "metadata": {},
     "output_type": "execute_result"
    }
   ],
   "source": [
    "valor_2 = int(valor)\n",
    "valor_2"
   ]
  },
  {
   "cell_type": "code",
   "execution_count": 28,
   "metadata": {},
   "outputs": [
    {
     "data": {
      "text/plain": [
       "int"
      ]
     },
     "execution_count": 28,
     "metadata": {},
     "output_type": "execute_result"
    }
   ],
   "source": [
    "type(valor_2)"
   ]
  },
  {
   "cell_type": "code",
   "execution_count": 29,
   "metadata": {},
   "outputs": [
    {
     "data": {
      "text/plain": [
       "10.0"
      ]
     },
     "execution_count": 29,
     "metadata": {},
     "output_type": "execute_result"
    }
   ],
   "source": [
    "valor_3 = float(valor_2)\n",
    "valor_3"
   ]
  },
  {
   "cell_type": "code",
   "execution_count": 30,
   "metadata": {},
   "outputs": [
    {
     "data": {
      "text/plain": [
       "float"
      ]
     },
     "execution_count": 30,
     "metadata": {},
     "output_type": "execute_result"
    }
   ],
   "source": [
    "type(valor_3)"
   ]
  },
  {
   "cell_type": "markdown",
   "metadata": {},
   "source": [
    "### Comentários"
   ]
  },
  {
   "cell_type": "markdown",
   "metadata": {},
   "source": [
    "Comentário de uma linha"
   ]
  },
  {
   "cell_type": "code",
   "execution_count": null,
   "metadata": {
    "collapsed": true
   },
   "outputs": [],
   "source": [
    "# Comentário de linha\n",
    "# Outro comentário"
   ]
  },
  {
   "cell_type": "markdown",
   "metadata": {
    "collapsed": true
   },
   "source": [
    "Comentários de múltiplas linhas"
   ]
  },
  {
   "cell_type": "code",
   "execution_count": null,
   "metadata": {},
   "outputs": [],
   "source": [
    "\"\"\"\n",
    "Este é um\n",
    "GRANDEEEEEEEE\n",
    "COMENTÁRIO\n",
    "\"\"\""
   ]
  },
  {
   "cell_type": "markdown",
   "metadata": {},
   "source": [
    "### Estruturas de controle condicionais"
   ]
  },
  {
   "cell_type": "code",
   "execution_count": null,
   "metadata": {},
   "outputs": [],
   "source": [
    "valor_1 = 10\n",
    "valor_2 = 20\n",
    "\n",
    "\n",
    "if (valor_1 > valor_2):\n",
    "    print(\"valor_1 é maior do que valor_2\")\n",
    "elif (valor_1 == valor_2):\n",
    "    print(\"valor_1 é igual ao valor_2\")\n",
    "else: \n",
    "    print(\"valor_2 é maior do que valor_1\")\n",
    "    "
   ]
  },
  {
   "cell_type": "markdown",
   "metadata": {},
   "source": [
    "Utilizando o operador lógico OU"
   ]
  },
  {
   "cell_type": "markdown",
   "metadata": {},
   "source": [
    "Utilizando o operador lógico AND"
   ]
  },
  {
   "cell_type": "markdown",
   "metadata": {},
   "source": [
    "### Estrututuras de controle de repetição - laços - loops"
   ]
  },
  {
   "cell_type": "markdown",
   "metadata": {
    "collapsed": true
   },
   "source": [
    "#### while\n",
    "\n",
    "Enquanto (while) uma lógica ser verdadeira, realiza um conjunto de instruções"
   ]
  },
  {
   "cell_type": "code",
   "execution_count": 31,
   "metadata": {},
   "outputs": [
    {
     "name": "stdout",
     "output_type": "stream",
     "text": [
      "1\n",
      "2\n",
      "3\n",
      "4\n",
      "5\n",
      "6\n",
      "7\n",
      "8\n",
      "9\n"
     ]
    }
   ],
   "source": [
    "valor = 1\n",
    "while (valor < 10):\n",
    "    print(valor)\n",
    "    valor += 1"
   ]
  },
  {
   "cell_type": "markdown",
   "metadata": {},
   "source": [
    "#### for\n",
    "\n",
    "Muito similar ao `while`, muda apenas a sintaxe"
   ]
  },
  {
   "cell_type": "code",
   "execution_count": 32,
   "metadata": {},
   "outputs": [
    {
     "name": "stdout",
     "output_type": "stream",
     "text": [
      "1\n",
      "2\n",
      "3\n",
      "4\n",
      "5\n",
      "6\n",
      "7\n",
      "8\n",
      "9\n"
     ]
    }
   ],
   "source": [
    "for valor in range(1, 10):\n",
    "    print(valor)"
   ]
  },
  {
   "cell_type": "code",
   "execution_count": 9,
   "metadata": {},
   "outputs": [
    {
     "name": "stdout",
     "output_type": "stream",
     "text": [
      "primeiro\n",
      "segundo\n",
      "terceiro\n",
      "Quarto\n",
      "Quinto\n",
      "Sexto\n"
     ]
    }
   ],
   "source": [
    "lista = [\"primeiro\", \"segundo\", \"terceiro\", \"Quarto\", \"Quinto\", \"Sexto\"]\n",
    "for valor in lista:\n",
    "    print(valor)"
   ]
  },
  {
   "cell_type": "code",
   "execution_count": 10,
   "metadata": {},
   "outputs": [
    {
     "name": "stdout",
     "output_type": "stream",
     "text": [
      "primeiro\n",
      "segundo\n",
      "terceiro\n",
      "Quarto\n",
      "Quinto\n",
      "Sexto\n",
      "Terminou!!!\n"
     ]
    }
   ],
   "source": [
    "lista = [\"primeiro\", \"segundo\", \"terceiro\", \"Quarto\", \"Quinto\", \"Sexto\"]\n",
    "for valor in lista:\n",
    "    print(valor)\n",
    "else:\n",
    "    print(\"Terminou!!!\")"
   ]
  },
  {
   "cell_type": "markdown",
   "metadata": {},
   "source": [
    "### Funções"
   ]
  },
  {
   "cell_type": "code",
   "execution_count": 11,
   "metadata": {},
   "outputs": [
    {
     "name": "stdout",
     "output_type": "stream",
     "text": [
      "Valor 1 não é par\n",
      "Valor 2 é par\n",
      "Valor 3 não é par\n",
      "Valor 4 é par\n",
      "Valor 5 não é par\n",
      "Valor 6 é par\n",
      "Valor 7 não é par\n",
      "Valor 8 é par\n",
      "Valor 9 não é par\n",
      "Valor 10 é par\n",
      "Valor 11 não é par\n",
      "Valor 12 é par\n"
     ]
    }
   ],
   "source": [
    "def verifica_se_par(valor):\n",
    "    if (valor % 2 == 0):\n",
    "        return \"Valor \"+str(valor)+\" é par\"\n",
    "    else:\n",
    "        return \"Valor \"+str(valor)+\" não é par\"\n",
    "    \n",
    "valores = [1,2,3,4,5,6,7,8,9,10,11,12]\n",
    "\n",
    "for valor in valores:\n",
    "    print (verifica_se_par(valor))\n",
    "    \n",
    "    "
   ]
  },
  {
   "cell_type": "markdown",
   "metadata": {},
   "source": [
    "#### Funções com parâmetros opcionais\n",
    "\n",
    "É possível que determinado parâmetro seja opcional"
   ]
  },
  {
   "cell_type": "code",
   "execution_count": 36,
   "metadata": {},
   "outputs": [
    {
     "name": "stdout",
     "output_type": "stream",
     "text": [
      "Cerâmica\n",
      "Taquarense\n",
      "Juventude\n",
      "Internacional\n",
      "Grêmio\n"
     ]
    }
   ],
   "source": [
    "def escrever_nome_time(time = \"Taquarense\"):\n",
    "    print(time)\n",
    "    \n",
    "escrever_nome_time(\"Cerâmica\")\n",
    "escrever_nome_time()\n",
    "escrever_nome_time(\"Juventude\")\n",
    "escrever_nome_time(\"Internacional\")\n",
    "escrever_nome_time(\"Grêmio\")"
   ]
  },
  {
   "cell_type": "markdown",
   "metadata": {},
   "source": [
    "#### Funções que retornam multiplos valores (Tuplas)\n",
    "\n",
    "O Python permite que uma função retorne uma tupla, ou seja, múltiplos valores. Em alguns casos isso é muito útil!!!\n",
    "\n"
   ]
  },
  {
   "cell_type": "code",
   "execution_count": 37,
   "metadata": {},
   "outputs": [
    {
     "name": "stdout",
     "output_type": "stream",
     "text": [
      "5\n",
      "-1\n"
     ]
    }
   ],
   "source": [
    "def operacoes_matematicas(valor_1, valor_2):\n",
    "    soma = valor_1 + valor_2\n",
    "    subtracao = valor_1 - valor_2\n",
    "    \n",
    "    return soma, subtracao\n",
    "\n",
    "soma, subtracao = operacoes_matematicas(2,3)\n",
    "print (soma)\n",
    "print (subtracao)\n"
   ]
  },
  {
   "cell_type": "markdown",
   "metadata": {},
   "source": [
    "#### Funções anonimas - Lambda\n",
    "\n",
    "Funções anônimas, também conhecidas como funções lambda, são funções que não possuem uma assinatura (nome).\n",
    "\n",
    "Elas recebem um conjunto de parâmetros, e devem ter um única expressão.\n",
    "\n",
    "São geralmente utilizadas para substituir funções que possuem uma única expressão."
   ]
  },
  {
   "cell_type": "code",
   "execution_count": 38,
   "metadata": {},
   "outputs": [
    {
     "name": "stdout",
     "output_type": "stream",
     "text": [
      "10 %\n"
     ]
    }
   ],
   "source": [
    "funcao_anonima = lambda parametro_1: str(parametro_1) + \" %\"\n",
    "print (funcao_anonima(10))"
   ]
  },
  {
   "cell_type": "code",
   "execution_count": 39,
   "metadata": {},
   "outputs": [
    {
     "name": "stdout",
     "output_type": "stream",
     "text": [
      "True\n"
     ]
    }
   ],
   "source": [
    "valor_eh_par = lambda parametro_1: parametro_1 % 2 == 0\n",
    "print (valor_eh_par(10))"
   ]
  },
  {
   "cell_type": "code",
   "execution_count": 40,
   "metadata": {},
   "outputs": [
    {
     "name": "stdout",
     "output_type": "stream",
     "text": [
      "10 20\n"
     ]
    }
   ],
   "source": [
    "concatena_valores = lambda parametro_1, parametro_2: str(parametro_1) + \" \" + str(parametro_2)\n",
    "print (concatena_valores(10, 20))"
   ]
  },
  {
   "cell_type": "markdown",
   "metadata": {},
   "source": [
    "### Orientação à objetos"
   ]
  },
  {
   "cell_type": "code",
   "execution_count": 24,
   "metadata": {},
   "outputs": [
    {
     "name": "stdout",
     "output_type": "stream",
     "text": [
      "Nome proprietario: Leonardo\n",
      "Nome proprietario: Anderson\n",
      "20\n",
      "50\n"
     ]
    }
   ],
   "source": [
    "class Civic():\n",
    "    portas = 4\n",
    "    motor = 2.0\n",
    "    ano = None\n",
    "    proprietario = None\n",
    "    km_rodados = 0\n",
    "    \n",
    "    def __init__(self, proprietario, ano):\n",
    "        self.proprietario = proprietario\n",
    "        self.ano = ano\n",
    "        \n",
    "    def dirigir(self, km):\n",
    "        self.km_rodados += km\n",
    "    \n",
    "    def nomeProprietario(self):\n",
    "        return self.proprietario\n",
    "        \n",
    "        \n",
    "objeto_civic = Civic(\"Leonardo\", 2019)\n",
    "print(\"Nome proprietario: \" + objeto_civic.nomeProprietario())\n",
    "objeto_civic.dirigir(100)\n",
    "objeto_civic.dirigir(50)\n",
    "\n",
    "objeto_civic1 = Civic(\"Anderson\", 2004)\n",
    "\n",
    "print(\"Nome proprietario: \" + objeto_civic1.nomeProprietario())\n",
    "\n",
    "objeto_civic1.dirigir(20)\n",
    "print(objeto_civic1.km_rodados)\n",
    "\n",
    "objeto_civic1.dirigir(30)\n",
    "print(objeto_civic1.km_rodados)\n"
   ]
  },
  {
   "cell_type": "markdown",
   "metadata": {},
   "source": [
    "#### Herança\n",
    "\n"
   ]
  },
  {
   "cell_type": "code",
   "execution_count": 20,
   "metadata": {},
   "outputs": [
    {
     "name": "stdout",
     "output_type": "stream",
     "text": [
      "150\n",
      "5\n",
      "Carro\n"
     ]
    }
   ],
   "source": [
    "class MeioDeTransporte():\n",
    "    \n",
    "    tipo = None\n",
    "    \n",
    "    def __init__(self):\n",
    "        pass\n",
    "\n",
    "        \n",
    "class Carro(MeioDeTransporte):\n",
    "    \n",
    "    lugares = None\n",
    "    \n",
    "    def __init__(self):\n",
    "        self.tipo = \"Carro\"\n",
    "\n",
    "class Motocicleta(MeioDeTransporte):\n",
    "    \n",
    "    lugares = 2\n",
    "    \n",
    "    def __init__(self):\n",
    "        self.tipo = \"Motocicleta\"\n",
    "\n",
    "class Civic(Carro):\n",
    "    portas = 4\n",
    "    motor = 2.0\n",
    "    ano = None\n",
    "    proprietario = None\n",
    "    km_rodados = 0\n",
    "    \n",
    "    def __init__(self, proprietario, ano):\n",
    "        Carro.__init__(self)\n",
    "        self.proprietario = proprietario\n",
    "        self.ano = ano\n",
    "        self.lugares = 5\n",
    "        \n",
    "        \n",
    "    def dirigir(self, km):\n",
    "        self.km_rodados += km\n",
    "        \n",
    "        \n",
    "objeto_civic = Civic(\"Leonardo\", 2019)\n",
    "objeto_civic.dirigir(100)\n",
    "objeto_civic.dirigir(50)\n",
    "\n",
    "print(objeto_civic.km_rodados)\n",
    "print(objeto_civic.lugares)\n",
    "print(objeto_civic.tipo)"
   ]
  },
  {
   "cell_type": "markdown",
   "metadata": {},
   "source": [
    "## Atividade prática\n",
    "\n",
    "Para realizar essa atividade, crie uma classe Pessoa com os atributos abaixo:\n",
    "\n",
    "- tipo -> \"Física\" ou \"Jurídica\"\n",
    "- nome -> string\n",
    "- identificador -> string para armazenar o CNPJ (caso seja pessoa física) ou CPF (caso seja pessoa jurídica)\n",
    "- saldo -> float\n",
    "- data de cadastro -> pesquisar :-)\n"
   ]
  },
  {
   "cell_type": "code",
   "execution_count": 43,
   "metadata": {},
   "outputs": [],
   "source": [
    "from datetime import date\n",
    "class Pessoa():\n",
    "    \n",
    "    tipo          = None\n",
    "    nome          = None\n",
    "    identificador = None\n",
    "    saldo         = None\n",
    "    dataCadastro  = None\n",
    "    \n",
    "    def __init__(self, pTipo, pNome, pIdentificador, pSaldo, pDataCadastro = date.today()):\n",
    "        self.tipo          = pTipo\n",
    "        self.nome          = pNome\n",
    "        self.identificador = pIdentificador\n",
    "        self.saldo         = pSaldo\n",
    "        self.dataCadastro  = pDataCadastro"
   ]
  },
  {
   "cell_type": "markdown",
   "metadata": {
    "collapsed": true
   },
   "source": [
    "### Crie uma lista com no mínimo 10 pessoas (físicas ou jurídicas)"
   ]
  },
  {
   "cell_type": "code",
   "execution_count": 81,
   "metadata": {},
   "outputs": [],
   "source": [
    "listaPessoas = [Pessoa(\"PF\",\"Ana\",49845750058,10, date(2019, 9, 28)), \n",
    "                Pessoa(\"PF\",\"Pedro\",59845750059,5),\n",
    "                Pessoa(\"PF\",\"Joao\",59845750060,13, date(2019, 9, 27)),\n",
    "                Pessoa(\"PJ\",\"IBM\",59845750061,3),\n",
    "                Pessoa(\"PJ\",\"HP\",59845750062,4),\n",
    "                Pessoa(\"PF\",\"Maria\",59845750057,11, date(2019, 9, 26)),\n",
    "                Pessoa(\"PJ\",\"Dell\",59845750056,15),\n",
    "                Pessoa(\"PF\",\"Jose\",59845750055,-7, date(2019, 9, 25)),\n",
    "               ]\n"
   ]
  },
  {
   "cell_type": "markdown",
   "metadata": {
    "collapsed": true
   },
   "source": [
    "### Apresente:\n",
    "\n",
    "#### O valor total disponível nas contas correntes de clientes de um banco.\n",
    "\n",
    "\n",
    "\n",
    "\n",
    "\n",
    "\n"
   ]
  },
  {
   "cell_type": "code",
   "execution_count": 62,
   "metadata": {},
   "outputs": [
    {
     "name": "stdout",
     "output_type": "stream",
     "text": [
      "Terminou!!!\n",
      "Valor total: 60\n"
     ]
    }
   ],
   "source": [
    "valorTotal = 0\n",
    "for pessoa in listaPessoas:\n",
    "    valorTotal += pessoa.saldo\n",
    "else:\n",
    "    print(\"Terminou!!!\")\n",
    "    \n",
    "print(\"Valor total: \" + str(valorTotal))"
   ]
  },
  {
   "cell_type": "markdown",
   "metadata": {},
   "source": [
    "#### CNPJ com maior valor"
   ]
  },
  {
   "cell_type": "code",
   "execution_count": 66,
   "metadata": {},
   "outputs": [
    {
     "name": "stdout",
     "output_type": "stream",
     "text": [
      "CNPJ com maior valor: 15\n"
     ]
    }
   ],
   "source": [
    "maiorValorCNPJ = -1\n",
    "for pessoa in listaPessoas:\n",
    "    if (pessoa.saldo > maiorValorCNPJ and pessoa.tipo == \"PJ\"):\n",
    "        maiorValorCNPJ = pessoa.saldo\n",
    "\n",
    "print(\"CNPJ com maior valor: \" + str(maiorValorCNPJ))"
   ]
  },
  {
   "cell_type": "markdown",
   "metadata": {},
   "source": [
    "#### CNPJ com menor valor"
   ]
  },
  {
   "cell_type": "code",
   "execution_count": 69,
   "metadata": {},
   "outputs": [
    {
     "name": "stdout",
     "output_type": "stream",
     "text": [
      "CNPJ com menor valor: 3\n"
     ]
    }
   ],
   "source": [
    "menorValorCNPJ = 10000\n",
    "for pessoa in listaPessoas:\n",
    "    if (pessoa.saldo < menorValorCNPJ and pessoa.tipo == \"PJ\"):\n",
    "        menorValorCNPJ = pessoa.saldo\n",
    "\n",
    "print(\"CNPJ com menor valor: \" + str(menorValorCNPJ))"
   ]
  },
  {
   "cell_type": "markdown",
   "metadata": {},
   "source": [
    "#### CPF com maior valor"
   ]
  },
  {
   "cell_type": "code",
   "execution_count": 70,
   "metadata": {},
   "outputs": [
    {
     "name": "stdout",
     "output_type": "stream",
     "text": [
      "CPF com maior valor: 11\n"
     ]
    }
   ],
   "source": [
    "maiorValorCPF = -1\n",
    "for pessoa in listaPessoas:\n",
    "    if (pessoa.saldo > maiorValorCPF and pessoa.tipo == \"PF\"):\n",
    "        maiorValorCPF = pessoa.saldo\n",
    "\n",
    "print(\"CPF com maior valor: \" + str(maiorValorCPF))"
   ]
  },
  {
   "cell_type": "markdown",
   "metadata": {},
   "source": [
    "#### CPF com menor valor"
   ]
  },
  {
   "cell_type": "code",
   "execution_count": null,
   "metadata": {
    "collapsed": true
   },
   "outputs": [],
   "source": [
    "menorValorCPF = 10000\n",
    "for pessoa in listaPessoas:\n",
    "    if (pessoa.saldo < menorValorCPF and pessoa.tipo == \"PF\"):\n",
    "        menorValorCPF = pessoa.saldo\n",
    "\n",
    "print(\"CPF com menor valor: \" + str(menorValorCPF))"
   ]
  },
  {
   "cell_type": "markdown",
   "metadata": {},
   "source": [
    "#### Média dos saldos de todas as contas;"
   ]
  },
  {
   "cell_type": "code",
   "execution_count": 73,
   "metadata": {},
   "outputs": [
    {
     "name": "stdout",
     "output_type": "stream",
     "text": [
      "Terminou!!!\n",
      "Média dos saldos de todas as contas: 7.875\n"
     ]
    }
   ],
   "source": [
    "valorTotal = 0\n",
    "for pessoa in listaPessoas:\n",
    "    valorTotal += pessoa.saldo\n",
    "else:\n",
    "    print(\"Terminou!!!\")\n",
    "    \n",
    "print(\"Média dos saldos de todas as contas: \" + str(valorTotal / len(listaPessoas)))"
   ]
  },
  {
   "cell_type": "markdown",
   "metadata": {},
   "source": [
    "#### Média dos saldos das pessoas físicas;"
   ]
  },
  {
   "cell_type": "code",
   "execution_count": 74,
   "metadata": {},
   "outputs": [
    {
     "name": "stdout",
     "output_type": "stream",
     "text": [
      "Média dos saldos das pessoas físicas: 5.125\n"
     ]
    }
   ],
   "source": [
    "valorTotal = 0\n",
    "for pessoa in listaPessoas:\n",
    "    if (pessoa.tipo == \"PF\"):\n",
    "        valorTotal += pessoa.saldo\n",
    "    \n",
    "print(\"Média dos saldos das pessoas físicas: \" + str(valorTotal / len(listaPessoas)))"
   ]
  },
  {
   "cell_type": "markdown",
   "metadata": {},
   "source": [
    "#### Média dos saldos das pessoas jurídicas;"
   ]
  },
  {
   "cell_type": "code",
   "execution_count": 75,
   "metadata": {},
   "outputs": [
    {
     "name": "stdout",
     "output_type": "stream",
     "text": [
      "Média dos saldos das pessoas jurídicas: 2.75\n"
     ]
    }
   ],
   "source": [
    "valorTotal = 0\n",
    "for pessoa in listaPessoas:\n",
    "    if (pessoa.tipo == \"PJ\"):\n",
    "        valorTotal += pessoa.saldo\n",
    "    \n",
    "print(\"Média dos saldos das pessoas jurídicas: \" + str(valorTotal / len(listaPessoas)))"
   ]
  },
  {
   "cell_type": "markdown",
   "metadata": {},
   "source": [
    "#### Quantidade de clientes com saldo negativo"
   ]
  },
  {
   "cell_type": "code",
   "execution_count": 78,
   "metadata": {},
   "outputs": [
    {
     "name": "stdout",
     "output_type": "stream",
     "text": [
      "Quantidade de clientes com saldo negativo: 1\n"
     ]
    }
   ],
   "source": [
    "qtdClientesSaldoNegativo = 0\n",
    "for pessoa in listaPessoas:\n",
    "    if (pessoa.saldo < 0):\n",
    "        qtdClientesSaldoNegativo += 1\n",
    "    \n",
    "print(\"Quantidade de clientes com saldo negativo: \" + str(qtdClientesSaldoNegativo))"
   ]
  },
  {
   "cell_type": "markdown",
   "metadata": {},
   "source": [
    "#### Saldo na conta do cliente mais antigo"
   ]
  },
  {
   "cell_type": "code",
   "execution_count": 82,
   "metadata": {},
   "outputs": [
    {
     "name": "stdout",
     "output_type": "stream",
     "text": [
      "Saldo na conta do cliente mais antigo: -7\n"
     ]
    }
   ],
   "source": [
    "cliMaisAntigo = date(2099, 12, 31)\n",
    "saldoCliMaisAntigo = 0\n",
    "for pessoa in listaPessoas:\n",
    "    if (pessoa.dataCadastro < cliMaisAntigo):\n",
    "        cliMaisAntigo      = pessoa.dataCadastro\n",
    "        saldoCliMaisAntigo = pessoa.saldo\n",
    "\n",
    "print(\"Saldo na conta do cliente mais antigo: \" + str(saldoCliMaisAntigo))"
   ]
  },
  {
   "cell_type": "code",
   "execution_count": null,
   "metadata": {},
   "outputs": [],
   "source": []
  }
 ],
 "metadata": {
  "kernelspec": {
   "display_name": "Python 3",
   "language": "python",
   "name": "python3"
  },
  "language_info": {
   "codemirror_mode": {
    "name": "ipython",
    "version": 3
   },
   "file_extension": ".py",
   "mimetype": "text/x-python",
   "name": "python",
   "nbconvert_exporter": "python",
   "pygments_lexer": "ipython3",
   "version": "3.7.3"
  }
 },
 "nbformat": 4,
 "nbformat_minor": 2
}
